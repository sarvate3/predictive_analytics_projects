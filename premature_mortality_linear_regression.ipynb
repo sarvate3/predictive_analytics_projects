{
 "cells": [
  {
   "cell_type": "markdown",
   "metadata": {},
   "source": [
    "The purpose of this project is to build a model using linear regression to explain the variation in premature age-adjusted mortality rate (frequency of deaths under the age of 75) across the United States using a variety of demographic and health-related variables. \n",
    "\n",
    "The approach I took was to use 22 potential explanatory variables (based on DATAUSA) , fit a linear regression model to the data, and determined which variables were \"significant\" using p-values with a cut-off of 5%. The coefficients of the resulting OLS model gives information about how a particular risk factor (e.g. Diabetes Rate or Drug Overdose Death Rate in a population) contributes to the overall premature mortality rate in the U.S. population."
   ]
  },
  {
   "cell_type": "code",
   "execution_count": 1,
   "metadata": {},
   "outputs": [],
   "source": [
    "# change root directory to location of DATAUSA datasets\n",
    "\n",
    "import os\n",
    "os.chdir('C:\\\\users\\\\sarva\\\\projects\\\\datasets\\\\datausa')"
   ]
  },
  {
   "cell_type": "code",
   "execution_count": 2,
   "metadata": {},
   "outputs": [
    {
     "name": "stdout",
     "output_type": "stream",
     "text": [
      "['adult_smoking_rate', 'ambulatory_discharge_rate', 'citizenship_rate', 'diabetes_rate', 'drug_overdose_death_rate', 'high_school_grad_rate', 'HIV_rate', 'homeownership_rate', 'income_inequality', 'infant_mortality_rate', 'median_age', 'median_hh_income', 'median_home_value', 'obesity_rate', 'population', 'poverty_rate', 'premature_mortality_rate', 'rural_pop_percent', 'teen_birth_rate', 'traffic_death_rate', 'unemp_rate', 'uninsured_adult_rate', 'uninsured_children_rate', 'uninsured_rate', 'violent_crime_rate']\n"
     ]
    }
   ],
   "source": [
    "# import all variable datasets\n",
    "\n",
    "import pandas as pd\n",
    "\n",
    "variable_list = dict()\n",
    "values = []\n",
    "\n",
    "for filename in os.listdir():\n",
    "    len_extension = len('.csv')\n",
    "    len_filename = len(filename)\n",
    "    \n",
    "    dataset_name = filename[0:(len_filename - len_extension)]\n",
    "    dataset = pd.read_csv(filename)\n",
    "    \n",
    "    variable_list.update({dataset_name: dataset})\n",
    "    \n",
    "variable_names = list(variable_list.keys())\n",
    "datasets = list(variable_list.values())\n",
    "\n",
    "# group each county by mean across all years for each variable\n",
    "\n",
    "\n",
    "for i in range(0, len(datasets)):\n",
    "    datasets[i] = datasets[i].groupby(['geo_name'])[datasets[i].columns[4]].mean()\n",
    "    \n",
    "# fill all N/A values with mean value across all counties for that variable\n",
    "    \n",
    "for i in range(0, len(datasets)):\n",
    "    datasets[i] = datasets[i].fillna(datasets[i].mean())\n",
    "    datasets[i] = datasets[i].to_frame().reset_index()\n",
    "    datasets[i].columns = ['county', variable_names[i]]\n",
    "    datasets[i].set_index('county')\n",
    "\n",
    "print(variable_names)"
   ]
  },
  {
   "cell_type": "code",
   "execution_count": 16,
   "metadata": {},
   "outputs": [],
   "source": [
    "# create dataset with all variable values\n",
    "\n",
    "from sklearn.preprocessing import MinMaxScaler\n",
    "import numpy as np\n",
    "\n",
    "scaler = MinMaxScaler()\n",
    "\n",
    "allvar = datasets[0]\n",
    "\n",
    "county_name = []\n",
    "state = []\n",
    "\n",
    "for i in range(0, len(datasets)):\n",
    "        allvar = pd.merge(allvar, datasets[i])\n",
    "           \n",
    "allvar = allvar.set_index('county')\n",
    "\n",
    "allvar = allvar.drop(['District of Columbia, DC'])\n",
    "\n",
    "county = allvar.index\n",
    "\n",
    "county_state_split = county.str.split(',')\n",
    "\n",
    "for i in county_state_split:\n",
    "    county_name.append(i[0])\n",
    "    state.append(i[1].strip())        \n",
    "    \n",
    "allvar['state'] = state\n",
    "\n",
    "allvar = allvar[['state', 'adult_smoking_rate', 'ambulatory_discharge_rate',\n",
    "       'citizenship_rate', 'diabetes_rate', 'drug_overdose_death_rate',\n",
    "       'high_school_grad_rate', 'HIV_rate', 'homeownership_rate',\n",
    "       'income_inequality', 'infant_mortality_rate', 'median_age',\n",
    "       'median_hh_income', 'median_home_value', 'obesity_rate', 'population',\n",
    "       'poverty_rate', 'premature_mortality_rate', 'rural_pop_percent',\n",
    "       'teen_birth_rate', 'traffic_death_rate', 'unemp_rate',\n",
    "       'uninsured_adult_rate', 'uninsured_children_rate', 'uninsured_rate',\n",
    "       'violent_crime_rate']]\n",
    "        \n",
    "input_var = allvar.drop(['state','premature_mortality_rate','uninsured_adult_rate','uninsured_children_rate'], axis=1)\n",
    "\n",
    "# input_var_scaled = pd.DataFrame(scaler.fit_transform(input_var))\n",
    "\n",
    "target_names = list(input_var.columns)"
   ]
  },
  {
   "cell_type": "code",
   "execution_count": 17,
   "metadata": {},
   "outputs": [],
   "source": [
    "# split input dataset into training and test set\n",
    "\n",
    "from sklearn.model_selection import train_test_split\n",
    "\n",
    "X = np.array(input_var)\n",
    "y = np.array(allvar['premature_mortality_rate'])\n",
    "\n",
    "X_train, X_test, y_train, y_test = train_test_split(X, y, test_size=0.80, random_state=42, stratify=allvar[['state']])"
   ]
  },
  {
   "cell_type": "code",
   "execution_count": 18,
   "metadata": {},
   "outputs": [],
   "source": [
    "import statsmodels.api as sm\n",
    "\n",
    "model = sm.OLS(y, X).fit()\n",
    "\n",
    "model_coef = model.params\n",
    "\n",
    "# print(\"R-squared value: {:.3f}\".format(model.score(X_test, y_test)))"
   ]
  },
  {
   "cell_type": "code",
   "execution_count": 24,
   "metadata": {},
   "outputs": [
    {
     "name": "stdout",
     "output_type": "stream",
     "text": [
      "                            OLS Regression Results                            \n",
      "==============================================================================\n",
      "Dep. Variable:                      y   R-squared:                       0.989\n",
      "Model:                            OLS   Adj. R-squared:                  0.989\n",
      "Method:                 Least Squares   F-statistic:                 1.266e+04\n",
      "Date:                Tue, 26 Mar 2019   Prob (F-statistic):               0.00\n",
      "Time:                        03:08:40   Log-Likelihood:                -16183.\n",
      "No. Observations:                3132   AIC:                         3.241e+04\n",
      "Df Residuals:                    3110   BIC:                         3.254e+04\n",
      "Df Model:                          22                                         \n",
      "Covariance Type:            nonrobust                                         \n",
      "==============================================================================\n",
      "                 coef    std err          t      P>|t|      [0.025      0.975]\n",
      "------------------------------------------------------------------------------\n",
      "x1           394.9273     30.966     12.753      0.000     334.211     455.644\n",
      "x2             0.3976      0.040      9.970      0.000       0.319       0.476\n",
      "x3           291.9215     19.697     14.820      0.000     253.300     330.543\n",
      "x4          1143.7599     73.124     15.641      0.000    1000.384    1287.136\n",
      "x5             2.2899      0.129     17.792      0.000       2.038       2.542\n",
      "x6           -60.9336     10.149     -6.004      0.000     -80.833     -41.034\n",
      "x7             0.0069      0.005      1.514      0.130      -0.002       0.016\n",
      "x8          -148.0980     15.248     -9.712      0.000    -177.996    -118.200\n",
      "x9             2.1533      1.637      1.315      0.188      -1.056       5.363\n",
      "x10            1.7951      0.579      3.101      0.002       0.660       2.930\n",
      "x11           -1.6339      0.244     -6.692      0.000      -2.113      -1.155\n",
      "x12           -0.0005      0.000     -3.151      0.002      -0.001      -0.000\n",
      "x13        -6.684e-05    1.9e-05     -3.509      0.000      -0.000   -2.95e-05\n",
      "x14          -63.6417     32.978     -1.930      0.054    -128.303       1.019\n",
      "x15         -1.42e-06   2.77e-06     -0.513      0.608   -6.84e-06       4e-06\n",
      "x16          -80.4483     30.748     -2.616      0.009    -140.738     -20.159\n",
      "x17           -3.6756      3.990     -0.921      0.357     -11.499       4.148\n",
      "x18            1.3183      0.072     18.324      0.000       1.177       1.459\n",
      "x19            2.0127      0.120     16.831      0.000       1.778       2.247\n",
      "x20          221.6158     48.333      4.585      0.000     126.849     316.383\n",
      "x21          -30.2917     19.985     -1.516      0.130     -69.477       8.894\n",
      "x22            0.0171      0.005      3.212      0.001       0.007       0.028\n",
      "==============================================================================\n",
      "Omnibus:                      454.088   Durbin-Watson:                   1.973\n",
      "Prob(Omnibus):                  0.000   Jarque-Bera (JB):             3093.935\n",
      "Skew:                           0.497   Prob(JB):                         0.00\n",
      "Kurtosis:                       7.767   Cond. No.                     3.47e+07\n",
      "==============================================================================\n",
      "\n",
      "Warnings:\n",
      "[1] Standard Errors assume that the covariance matrix of the errors is correctly specified.\n",
      "[2] The condition number is large, 3.47e+07. This might indicate that there are\n",
      "strong multicollinearity or other numerical problems.\n"
     ]
    }
   ],
   "source": [
    "print(model.summary())"
   ]
  },
  {
   "cell_type": "code",
   "execution_count": 25,
   "metadata": {},
   "outputs": [
    {
     "name": "stdout",
     "output_type": "stream",
     "text": [
      "                                0\n",
      "adult_smoking_rate         0.3949\n",
      "ambulatory_discharge_rate  0.0040\n",
      "citizenship_rate           0.2919\n",
      "diabetes_rate              1.1438\n",
      "drug_overdose_death_rate   2.2899\n",
      "high_school_grad_rate     -0.0609\n",
      "HIV_rate                   0.0069\n",
      "homeownership_rate        -0.1481\n",
      "infant_mortality_rate      0.0180\n",
      "obesity_rate              -0.0636\n",
      "poverty_rate              -0.0804\n",
      "rural_pop_percent         -0.0037\n",
      "teen_birth_rate            0.0132\n",
      "traffic_death_rate         2.0127\n",
      "unemp_rate                 0.2216\n",
      "uninsured_rate            -0.0303\n",
      "violent_crime_rate         0.0171\n"
     ]
    }
   ],
   "source": [
    "uninsured_rate_coef = model_coef[target_names.index('uninsured_rate')]\n",
    "\n",
    "attribute_base = [100, 1000, 100, 100, 100000, 100, 100000, 100, 1, 1000, 1, 1, 1, 100, 1, 100, 100, 1000, \n",
    "                  100000, 100, 100, 100000]\n",
    "\n",
    "model_coefficients = pd.DataFrame(model_coef, target_names)\n",
    "\n",
    "model_coefficients_normalized = model_coefficients.copy()\n",
    "\n",
    "for i in range(0,len(model_coefficients)):\n",
    "    model_coefficients_normalized[0][i] = model_coefficients_normalized[0][i] / (100000/attribute_base[i])\n",
    "\n",
    "    \n",
    "model_coefficients_normalized = model_coefficients_normalized.drop(['income_inequality', 'median_age', \n",
    "                                                                    'median_hh_income', 'median_home_value', \n",
    "                                                                    'population'], axis=0)    \n",
    "\n",
    "\n",
    "pd.options.display.float_format = '{:,.4f}'.format\n",
    "\n",
    "print(model_coefficients_normalized)\n",
    "\n",
    "target_coef = model_coefficients_normalized.loc['uninsured_rate'][0]"
   ]
  },
  {
   "cell_type": "code",
   "execution_count": 21,
   "metadata": {},
   "outputs": [
    {
     "data": {
      "text/plain": [
       "3138"
      ]
     },
     "execution_count": 21,
     "metadata": {},
     "output_type": "execute_result"
    }
   ],
   "source": [
    "sum(dataset.groupby('geo_name').nunique()['geo_name'])"
   ]
  },
  {
   "cell_type": "code",
   "execution_count": 26,
   "metadata": {},
   "outputs": [
    {
     "data": {
      "text/plain": [
       "Text(0,0.5,'Premature Deaths per 100,000')"
      ]
     },
     "execution_count": 26,
     "metadata": {},
     "output_type": "execute_result"
    },
    {
     "data": {
      "image/png": "[encoded data removed]",
      "text/plain": [
       "<Figure size 432x288 with 1 Axes>"
      ]
     },
     "metadata": {},
     "output_type": "display_data"
    }
   ],
   "source": [
    "import matplotlib.pyplot as plt\n",
    "\n",
    "plt.scatter(allvar['obesity_rate'], allvar['premature_mortality_rate'], alpha=0.4, marker='o')\n",
    "plt.xlabel(\"Obesity Rate\")\n",
    "plt.ylabel(\"Premature Deaths per 100,000\")"
   ]
  },
  {
   "cell_type": "code",
   "execution_count": 10,
   "metadata": {},
   "outputs": [],
   "source": [
    "model2 = sm.OLS(allvar['premature_mortality_rate'], allvar['obesity_rate']).fit()"
   ]
  },
  {
   "cell_type": "code",
   "execution_count": 11,
   "metadata": {},
   "outputs": [
    {
     "name": "stdout",
     "output_type": "stream",
     "text": [
      "                               OLS Regression Results                               \n",
      "====================================================================================\n",
      "Dep. Variable:     premature_mortality_rate   R-squared:                       0.961\n",
      "Model:                                  OLS   Adj. R-squared:                  0.961\n",
      "Method:                       Least Squares   F-statistic:                 7.622e+04\n",
      "Date:                      Mon, 25 Mar 2019   Prob (F-statistic):               0.00\n",
      "Time:                              17:47:04   Log-Likelihood:                -18177.\n",
      "No. Observations:                      3132   AIC:                         3.636e+04\n",
      "Df Residuals:                          3131   BIC:                         3.636e+04\n",
      "Df Model:                                 1                                         \n",
      "Covariance Type:                  nonrobust                                         \n",
      "================================================================================\n",
      "                   coef    std err          t      P>|t|      [0.025      0.975]\n",
      "--------------------------------------------------------------------------------\n",
      "obesity_rate  1268.7823      4.596    276.084      0.000    1259.772    1277.793\n",
      "==============================================================================\n",
      "Omnibus:                      419.891   Durbin-Watson:                   1.960\n",
      "Prob(Omnibus):                  0.000   Jarque-Bera (JB):              889.735\n",
      "Skew:                           0.808   Prob(JB):                    6.26e-194\n",
      "Kurtosis:                       5.051   Cond. No.                         1.00\n",
      "==============================================================================\n",
      "\n",
      "Warnings:\n",
      "[1] Standard Errors assume that the covariance matrix of the errors is correctly specified.\n"
     ]
    }
   ],
   "source": [
    "print(model2.summary())"
   ]
  },
  {
   "cell_type": "code",
   "execution_count": null,
   "metadata": {},
   "outputs": [],
   "source": []
  }
 ],
 "metadata": {
  "kernelspec": {
   "display_name": "Python 3",
   "language": "python",
   "name": "python3"
  },
  "language_info": {
   "codemirror_mode": {
    "name": "ipython",
    "version": 3
   },
   "file_extension": ".py",
   "mimetype": "text/x-python",
   "name": "python",
   "nbconvert_exporter": "python",
   "pygments_lexer": "ipython3",
   "version": "3.6.5"
  }
 },
 "nbformat": 4,
 "nbformat_minor": 2
}
